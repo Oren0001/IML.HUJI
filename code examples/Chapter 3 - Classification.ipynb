{
 "cells": [
  {
   "cell_type": "markdown",
   "metadata": {},
   "source": [
    "# Chapter 3 - Classification\n",
    "The following notebook consists of different code examples for graphs seen in Chapter 3."
   ]
  },
  {
   "cell_type": "code",
   "execution_count": 1,
   "metadata": {},
   "outputs": [],
   "source": [
    "import sys\n",
    "sys.path.append(\"../\")\n",
    "from utils import *"
   ]
  },
  {
   "cell_type": "markdown",
   "metadata": {},
   "source": [
    "## Model Evaluations"
   ]
  },
  {
   "cell_type": "code",
   "execution_count": 2,
   "metadata": {},
   "outputs": [],
   "source": [
    "from sklearn.svm import SVC\n",
    "from sklearn.neighbors import KNeighborsClassifier\n",
    "from sklearn.linear_model import LogisticRegression\n",
    "\n",
    "models = [LogisticRegression(), SVC(kernel='rbf', probability=True), KNeighborsClassifier(n_neighbors=4)]\n",
    "model_names = [r\"$\\text{Logistic Regression}$\", r\"$\\text{Gaussian Kernel SVM}$\", r\"$k-\\text{NN}$\"]\n",
    "\n",
    "from sklearn.datasets import make_moons\n",
    "X, y = make_moons(n_samples=500, noise=0.2, random_state=1)"
   ]
  },
  {
   "cell_type": "code",
   "execution_count": 3,
   "metadata": {},
   "outputs": [
    {
     "ename": "FileNotFoundError",
     "evalue": "[Errno 2] No such file or directory: '..\\\\figures\\\\decision_boundary.png'",
     "output_type": "error",
     "traceback": [
      "\u001B[1;31m---------------------------------------------------------------------------\u001B[0m",
      "\u001B[1;31mFileNotFoundError\u001B[0m                         Traceback (most recent call last)",
      "\u001B[1;32m~\\AppData\\Local\\Temp\\ipykernel_24604\\4237968294.py\u001B[0m in \u001B[0;36m<module>\u001B[1;34m\u001B[0m\n\u001B[0;32m     10\u001B[0m \u001B[1;33m\u001B[0m\u001B[0m\n\u001B[0;32m     11\u001B[0m \u001B[0mfig\u001B[0m\u001B[1;33m.\u001B[0m\u001B[0mupdate_layout\u001B[0m\u001B[1;33m(\u001B[0m\u001B[0mwidth\u001B[0m\u001B[1;33m=\u001B[0m\u001B[1;36m1000\u001B[0m\u001B[1;33m,\u001B[0m \u001B[0mheight\u001B[0m\u001B[1;33m=\u001B[0m\u001B[1;36m300\u001B[0m\u001B[1;33m)\u001B[0m\u001B[1;33m.\u001B[0m\u001B[0mupdate_xaxes\u001B[0m\u001B[1;33m(\u001B[0m\u001B[0mvisible\u001B[0m\u001B[1;33m=\u001B[0m\u001B[1;32mFalse\u001B[0m\u001B[1;33m)\u001B[0m\u001B[1;33m.\u001B[0m\u001B[0mupdate_yaxes\u001B[0m\u001B[1;33m(\u001B[0m\u001B[0mvisible\u001B[0m\u001B[1;33m=\u001B[0m\u001B[1;32mFalse\u001B[0m\u001B[1;33m)\u001B[0m\u001B[1;33m\u001B[0m\u001B[1;33m\u001B[0m\u001B[0m\n\u001B[1;32m---> 12\u001B[1;33m \u001B[0mfig\u001B[0m\u001B[1;33m.\u001B[0m\u001B[0mwrite_image\u001B[0m\u001B[1;33m(\u001B[0m\u001B[1;34mf\"../figures/decision_boundary.png\"\u001B[0m\u001B[1;33m)\u001B[0m\u001B[1;33m\u001B[0m\u001B[1;33m\u001B[0m\u001B[0m\n\u001B[0m\u001B[0;32m     13\u001B[0m \u001B[0mfig\u001B[0m\u001B[1;33m.\u001B[0m\u001B[0mshow\u001B[0m\u001B[1;33m(\u001B[0m\u001B[1;33m)\u001B[0m\u001B[1;33m\u001B[0m\u001B[1;33m\u001B[0m\u001B[0m\n",
      "\u001B[1;32mD:\\Programming\\anaconda3\\envs\\iml.env\\lib\\site-packages\\plotly\\basedatatypes.py\u001B[0m in \u001B[0;36mwrite_image\u001B[1;34m(self, *args, **kwargs)\u001B[0m\n\u001B[0;32m   3827\u001B[0m         \u001B[1;32mimport\u001B[0m \u001B[0mplotly\u001B[0m\u001B[1;33m.\u001B[0m\u001B[0mio\u001B[0m \u001B[1;32mas\u001B[0m \u001B[0mpio\u001B[0m\u001B[1;33m\u001B[0m\u001B[1;33m\u001B[0m\u001B[0m\n\u001B[0;32m   3828\u001B[0m \u001B[1;33m\u001B[0m\u001B[0m\n\u001B[1;32m-> 3829\u001B[1;33m         \u001B[1;32mreturn\u001B[0m \u001B[0mpio\u001B[0m\u001B[1;33m.\u001B[0m\u001B[0mwrite_image\u001B[0m\u001B[1;33m(\u001B[0m\u001B[0mself\u001B[0m\u001B[1;33m,\u001B[0m \u001B[1;33m*\u001B[0m\u001B[0margs\u001B[0m\u001B[1;33m,\u001B[0m \u001B[1;33m**\u001B[0m\u001B[0mkwargs\u001B[0m\u001B[1;33m)\u001B[0m\u001B[1;33m\u001B[0m\u001B[1;33m\u001B[0m\u001B[0m\n\u001B[0m\u001B[0;32m   3830\u001B[0m \u001B[1;33m\u001B[0m\u001B[0m\n\u001B[0;32m   3831\u001B[0m     \u001B[1;31m# Static helpers\u001B[0m\u001B[1;33m\u001B[0m\u001B[1;33m\u001B[0m\u001B[1;33m\u001B[0m\u001B[0m\n",
      "\u001B[1;32mD:\\Programming\\anaconda3\\envs\\iml.env\\lib\\site-packages\\plotly\\io\\_kaleido.py\u001B[0m in \u001B[0;36mwrite_image\u001B[1;34m(fig, file, format, scale, width, height, validate, engine)\u001B[0m\n\u001B[0;32m    296\u001B[0m         \u001B[1;31m# We previously succeeded in interpreting `file` as a pathlib object.\u001B[0m\u001B[1;33m\u001B[0m\u001B[1;33m\u001B[0m\u001B[1;33m\u001B[0m\u001B[0m\n\u001B[0;32m    297\u001B[0m         \u001B[1;31m# Now we can use `write_bytes()`.\u001B[0m\u001B[1;33m\u001B[0m\u001B[1;33m\u001B[0m\u001B[1;33m\u001B[0m\u001B[0m\n\u001B[1;32m--> 298\u001B[1;33m         \u001B[0mpath\u001B[0m\u001B[1;33m.\u001B[0m\u001B[0mwrite_bytes\u001B[0m\u001B[1;33m(\u001B[0m\u001B[0mimg_data\u001B[0m\u001B[1;33m)\u001B[0m\u001B[1;33m\u001B[0m\u001B[1;33m\u001B[0m\u001B[0m\n\u001B[0m\u001B[0;32m    299\u001B[0m \u001B[1;33m\u001B[0m\u001B[0m\n\u001B[0;32m    300\u001B[0m \u001B[1;33m\u001B[0m\u001B[0m\n",
      "\u001B[1;32mD:\\Programming\\anaconda3\\envs\\iml.env\\lib\\pathlib.py\u001B[0m in \u001B[0;36mwrite_bytes\u001B[1;34m(self, data)\u001B[0m\n\u001B[0;32m   1228\u001B[0m         \u001B[1;31m# type-check for the buffer interface before truncating the file\u001B[0m\u001B[1;33m\u001B[0m\u001B[1;33m\u001B[0m\u001B[1;33m\u001B[0m\u001B[0m\n\u001B[0;32m   1229\u001B[0m         \u001B[0mview\u001B[0m \u001B[1;33m=\u001B[0m \u001B[0mmemoryview\u001B[0m\u001B[1;33m(\u001B[0m\u001B[0mdata\u001B[0m\u001B[1;33m)\u001B[0m\u001B[1;33m\u001B[0m\u001B[1;33m\u001B[0m\u001B[0m\n\u001B[1;32m-> 1230\u001B[1;33m         \u001B[1;32mwith\u001B[0m \u001B[0mself\u001B[0m\u001B[1;33m.\u001B[0m\u001B[0mopen\u001B[0m\u001B[1;33m(\u001B[0m\u001B[0mmode\u001B[0m\u001B[1;33m=\u001B[0m\u001B[1;34m'wb'\u001B[0m\u001B[1;33m)\u001B[0m \u001B[1;32mas\u001B[0m \u001B[0mf\u001B[0m\u001B[1;33m:\u001B[0m\u001B[1;33m\u001B[0m\u001B[1;33m\u001B[0m\u001B[0m\n\u001B[0m\u001B[0;32m   1231\u001B[0m             \u001B[1;32mreturn\u001B[0m \u001B[0mf\u001B[0m\u001B[1;33m.\u001B[0m\u001B[0mwrite\u001B[0m\u001B[1;33m(\u001B[0m\u001B[0mview\u001B[0m\u001B[1;33m)\u001B[0m\u001B[1;33m\u001B[0m\u001B[1;33m\u001B[0m\u001B[0m\n\u001B[0;32m   1232\u001B[0m \u001B[1;33m\u001B[0m\u001B[0m\n",
      "\u001B[1;32mD:\\Programming\\anaconda3\\envs\\iml.env\\lib\\pathlib.py\u001B[0m in \u001B[0;36mopen\u001B[1;34m(self, mode, buffering, encoding, errors, newline)\u001B[0m\n\u001B[0;32m   1206\u001B[0m             \u001B[0mself\u001B[0m\u001B[1;33m.\u001B[0m\u001B[0m_raise_closed\u001B[0m\u001B[1;33m(\u001B[0m\u001B[1;33m)\u001B[0m\u001B[1;33m\u001B[0m\u001B[1;33m\u001B[0m\u001B[0m\n\u001B[0;32m   1207\u001B[0m         return io.open(self, mode, buffering, encoding, errors, newline,\n\u001B[1;32m-> 1208\u001B[1;33m                        opener=self._opener)\n\u001B[0m\u001B[0;32m   1209\u001B[0m \u001B[1;33m\u001B[0m\u001B[0m\n\u001B[0;32m   1210\u001B[0m     \u001B[1;32mdef\u001B[0m \u001B[0mread_bytes\u001B[0m\u001B[1;33m(\u001B[0m\u001B[0mself\u001B[0m\u001B[1;33m)\u001B[0m\u001B[1;33m:\u001B[0m\u001B[1;33m\u001B[0m\u001B[1;33m\u001B[0m\u001B[0m\n",
      "\u001B[1;32mD:\\Programming\\anaconda3\\envs\\iml.env\\lib\\pathlib.py\u001B[0m in \u001B[0;36m_opener\u001B[1;34m(self, name, flags, mode)\u001B[0m\n\u001B[0;32m   1061\u001B[0m     \u001B[1;32mdef\u001B[0m \u001B[0m_opener\u001B[0m\u001B[1;33m(\u001B[0m\u001B[0mself\u001B[0m\u001B[1;33m,\u001B[0m \u001B[0mname\u001B[0m\u001B[1;33m,\u001B[0m \u001B[0mflags\u001B[0m\u001B[1;33m,\u001B[0m \u001B[0mmode\u001B[0m\u001B[1;33m=\u001B[0m\u001B[1;36m0o666\u001B[0m\u001B[1;33m)\u001B[0m\u001B[1;33m:\u001B[0m\u001B[1;33m\u001B[0m\u001B[1;33m\u001B[0m\u001B[0m\n\u001B[0;32m   1062\u001B[0m         \u001B[1;31m# A stub for the opener argument to built-in open()\u001B[0m\u001B[1;33m\u001B[0m\u001B[1;33m\u001B[0m\u001B[1;33m\u001B[0m\u001B[0m\n\u001B[1;32m-> 1063\u001B[1;33m         \u001B[1;32mreturn\u001B[0m \u001B[0mself\u001B[0m\u001B[1;33m.\u001B[0m\u001B[0m_accessor\u001B[0m\u001B[1;33m.\u001B[0m\u001B[0mopen\u001B[0m\u001B[1;33m(\u001B[0m\u001B[0mself\u001B[0m\u001B[1;33m,\u001B[0m \u001B[0mflags\u001B[0m\u001B[1;33m,\u001B[0m \u001B[0mmode\u001B[0m\u001B[1;33m)\u001B[0m\u001B[1;33m\u001B[0m\u001B[1;33m\u001B[0m\u001B[0m\n\u001B[0m\u001B[0;32m   1064\u001B[0m \u001B[1;33m\u001B[0m\u001B[0m\n\u001B[0;32m   1065\u001B[0m     \u001B[1;32mdef\u001B[0m \u001B[0m_raw_open\u001B[0m\u001B[1;33m(\u001B[0m\u001B[0mself\u001B[0m\u001B[1;33m,\u001B[0m \u001B[0mflags\u001B[0m\u001B[1;33m,\u001B[0m \u001B[0mmode\u001B[0m\u001B[1;33m=\u001B[0m\u001B[1;36m0o777\u001B[0m\u001B[1;33m)\u001B[0m\u001B[1;33m:\u001B[0m\u001B[1;33m\u001B[0m\u001B[1;33m\u001B[0m\u001B[0m\n",
      "\u001B[1;31mFileNotFoundError\u001B[0m: [Errno 2] No such file or directory: '..\\\\figures\\\\decision_boundary.png'"
     ]
    }
   ],
   "source": [
    "lims = np.array([X.min(axis=0), X.max(axis=0)]).T + np.array([-.2, .2])\n",
    "\n",
    "fig = make_subplots(rows=1, cols=3, subplot_titles=model_names, horizontal_spacing = 0.01)\n",
    "for i, m in enumerate(models):\n",
    "    fig.add_traces([decision_surface(m.fit(X, y).predict, lims[0], lims[1], showscale=False),\n",
    "                    go.Scatter(x=X[:,0], y=X[:,1], mode=\"markers\", showlegend=False,\n",
    "                               marker=dict(color=y, symbol=class_symbols[y], colorscale=class_colors(3), \n",
    "                                           line=dict(color=\"black\", width=1)))], \n",
    "                   rows=1, cols=i+1)\n",
    "\n",
    "fig.update_layout(width=1000, height=300).update_xaxes(visible=False).update_yaxes(visible=False)\n",
    "fig.write_image(f\"../figures/decision_boundary.png\")\n",
    "fig.show()"
   ]
  },
  {
   "cell_type": "code",
   "execution_count": null,
   "metadata": {},
   "outputs": [],
   "source": [
    "from sklearn import metrics\n",
    "\n",
    "fig = go.Figure(layout=go.Layout(title=r\"$\\text{ROC Curves Of Models - Moons Dataset}$\", \n",
    "                                 xaxis=dict(title=r\"$\\text{False Positive Rate (FPR)}$\"),\n",
    "                                 yaxis=dict(title=r\"$\\text{True Positive Rate (TPR)}$\")),\n",
    "                data=[go.Scatter(x=[0,1], y=[0,1], mode=\"lines\", showlegend=False, line_color=\"black\", line_dash='dash')])\n",
    "\n",
    "for i, model in enumerate(models):\n",
    "    fpr, tpr, th = metrics.roc_curve(y, model.predict_proba(X)[:, 1])\n",
    "    fig.add_trace(go.Scatter(x=fpr, y=tpr, mode='lines', name=model_names[i], text=th,\n",
    "                             hovertemplate=\"<b>Threshold:</b>%{text:.3f}<br>FPR: %{x:.3f}<br>TPR: %{y:.3f}\"))\n",
    "\n",
    "    \n",
    "fig.update_layout(width=800, height=500, yaxis=dict(range=[0,1.1]))\n",
    "fig.write_image(\"../figures/roc.png\")\n",
    "fig.show()"
   ]
  },
  {
   "cell_type": "markdown",
   "metadata": {},
   "source": [
    "## Perceptron"
   ]
  },
  {
   "cell_type": "code",
   "execution_count": null,
   "metadata": {},
   "outputs": [],
   "source": [
    "from sklearn.datasets import make_classification, make_blobs\n",
    "np.random.seed(9)\n",
    "\n",
    "def create_linearly_separable_dataset(n=30, scale=10):\n",
    "    # Create a dataset that is linearly separable\n",
    "    separable = False\n",
    "    while not separable:\n",
    "        samples = make_classification(n_samples=n, n_features=2, n_informative=2, n_repeated = 0, \n",
    "                                  n_redundant=0,n_clusters_per_class=1, class_sep = 0.5, scale=scale)\n",
    "        red, blue = samples[0][samples[1] == 0], samples[0][samples[1] == 1]\n",
    "        separable = any([red[:, k].max() < blue[:, k].min() or red[:, k].min() > blue[:, k].max() for k in range(2)])\n",
    "        \n",
    "    X, y = samples[0], samples[1]\n",
    "    \n",
    "    # Make sure that the first two samples are from both classes\n",
    "    idx = np.array([np.where(y == 0)[0][0], np.where(y == 1)[0][0]])\n",
    "    msk = np.array([False]*X.shape[0])\n",
    "    msk[idx] = True\n",
    "    return np.r_[X[msk], X[~msk]], np.r_[y[msk], y[~msk]]\n",
    "\n",
    "X, y = create_linearly_separable_dataset(16)"
   ]
  },
  {
   "cell_type": "code",
   "execution_count": 4,
   "metadata": {},
   "outputs": [
    {
     "ename": "KeyboardInterrupt",
     "evalue": "",
     "output_type": "error",
     "traceback": [
      "\u001B[1;31m---------------------------------------------------------------------------\u001B[0m",
      "\u001B[1;31mKeyboardInterrupt\u001B[0m                         Traceback (most recent call last)",
      "\u001B[1;32m~\\AppData\\Local\\Temp\\ipykernel_24604\\3994972472.py\u001B[0m in \u001B[0;36m<module>\u001B[1;34m\u001B[0m\n\u001B[0;32m     24\u001B[0m                 go.Scatter(x = lim[0], y = [yy[0], yy[1]], mode = 'lines', line_color=\"black\", showlegend=False)],\n\u001B[0;32m     25\u001B[0m             \u001B[0mtraces\u001B[0m\u001B[1;33m=\u001B[0m\u001B[1;33m[\u001B[0m\u001B[1;36m0\u001B[0m\u001B[1;33m,\u001B[0m \u001B[1;36m1\u001B[0m\u001B[1;33m]\u001B[0m\u001B[1;33m,\u001B[0m\u001B[1;33m\u001B[0m\u001B[1;33m\u001B[0m\u001B[0m\n\u001B[1;32m---> 26\u001B[1;33m             layout = go.Layout(title=rf\"$\\text{{Perceptron Fit - Round {rnd} After {i+1} Samples}}$\")))\n\u001B[0m\u001B[0;32m     27\u001B[0m     \u001B[0mrnd\u001B[0m \u001B[1;33m+=\u001B[0m \u001B[1;36m1\u001B[0m\u001B[1;33m\u001B[0m\u001B[1;33m\u001B[0m\u001B[0m\n\u001B[0;32m     28\u001B[0m \u001B[1;33m\u001B[0m\u001B[0m\n",
      "\u001B[1;32mD:\\Programming\\anaconda3\\envs\\iml.env\\lib\\site-packages\\plotly\\graph_objs\\_frame.py\u001B[0m in \u001B[0;36m__init__\u001B[1;34m(self, arg, baseframe, data, group, layout, name, traces, **kwargs)\u001B[0m\n\u001B[0;32m    241\u001B[0m         \u001B[0m_v\u001B[0m \u001B[1;33m=\u001B[0m \u001B[0mdata\u001B[0m \u001B[1;32mif\u001B[0m \u001B[0mdata\u001B[0m \u001B[1;32mis\u001B[0m \u001B[1;32mnot\u001B[0m \u001B[1;32mNone\u001B[0m \u001B[1;32melse\u001B[0m \u001B[0m_v\u001B[0m\u001B[1;33m\u001B[0m\u001B[1;33m\u001B[0m\u001B[0m\n\u001B[0;32m    242\u001B[0m         \u001B[1;32mif\u001B[0m \u001B[0m_v\u001B[0m \u001B[1;32mis\u001B[0m \u001B[1;32mnot\u001B[0m \u001B[1;32mNone\u001B[0m\u001B[1;33m:\u001B[0m\u001B[1;33m\u001B[0m\u001B[1;33m\u001B[0m\u001B[0m\n\u001B[1;32m--> 243\u001B[1;33m             \u001B[0mself\u001B[0m\u001B[1;33m[\u001B[0m\u001B[1;34m\"data\"\u001B[0m\u001B[1;33m]\u001B[0m \u001B[1;33m=\u001B[0m \u001B[0m_v\u001B[0m\u001B[1;33m\u001B[0m\u001B[1;33m\u001B[0m\u001B[0m\n\u001B[0m\u001B[0;32m    244\u001B[0m         \u001B[0m_v\u001B[0m \u001B[1;33m=\u001B[0m \u001B[0marg\u001B[0m\u001B[1;33m.\u001B[0m\u001B[0mpop\u001B[0m\u001B[1;33m(\u001B[0m\u001B[1;34m\"group\"\u001B[0m\u001B[1;33m,\u001B[0m \u001B[1;32mNone\u001B[0m\u001B[1;33m)\u001B[0m\u001B[1;33m\u001B[0m\u001B[1;33m\u001B[0m\u001B[0m\n\u001B[0;32m    245\u001B[0m         \u001B[0m_v\u001B[0m \u001B[1;33m=\u001B[0m \u001B[0mgroup\u001B[0m \u001B[1;32mif\u001B[0m \u001B[0mgroup\u001B[0m \u001B[1;32mis\u001B[0m \u001B[1;32mnot\u001B[0m \u001B[1;32mNone\u001B[0m \u001B[1;32melse\u001B[0m \u001B[0m_v\u001B[0m\u001B[1;33m\u001B[0m\u001B[1;33m\u001B[0m\u001B[0m\n",
      "\u001B[1;32mD:\\Programming\\anaconda3\\envs\\iml.env\\lib\\site-packages\\plotly\\basedatatypes.py\u001B[0m in \u001B[0;36m__setitem__\u001B[1;34m(self, prop, value)\u001B[0m\n\u001B[0;32m   4821\u001B[0m                 \u001B[1;31m# ### Handle compound array property ###\u001B[0m\u001B[1;33m\u001B[0m\u001B[1;33m\u001B[0m\u001B[1;33m\u001B[0m\u001B[0m\n\u001B[0;32m   4822\u001B[0m                 \u001B[1;32melif\u001B[0m \u001B[0misinstance\u001B[0m\u001B[1;33m(\u001B[0m\u001B[0mvalidator\u001B[0m\u001B[1;33m,\u001B[0m \u001B[1;33m(\u001B[0m\u001B[0mCompoundArrayValidator\u001B[0m\u001B[1;33m,\u001B[0m \u001B[0mBaseDataValidator\u001B[0m\u001B[1;33m)\u001B[0m\u001B[1;33m)\u001B[0m\u001B[1;33m:\u001B[0m\u001B[1;33m\u001B[0m\u001B[1;33m\u001B[0m\u001B[0m\n\u001B[1;32m-> 4823\u001B[1;33m                     \u001B[0mself\u001B[0m\u001B[1;33m.\u001B[0m\u001B[0m_set_array_prop\u001B[0m\u001B[1;33m(\u001B[0m\u001B[0mprop\u001B[0m\u001B[1;33m,\u001B[0m \u001B[0mvalue\u001B[0m\u001B[1;33m)\u001B[0m\u001B[1;33m\u001B[0m\u001B[1;33m\u001B[0m\u001B[0m\n\u001B[0m\u001B[0;32m   4824\u001B[0m \u001B[1;33m\u001B[0m\u001B[0m\n\u001B[0;32m   4825\u001B[0m                 \u001B[1;31m# ### Handle simple property ###\u001B[0m\u001B[1;33m\u001B[0m\u001B[1;33m\u001B[0m\u001B[1;33m\u001B[0m\u001B[0m\n",
      "\u001B[1;32mD:\\Programming\\anaconda3\\envs\\iml.env\\lib\\site-packages\\plotly\\basedatatypes.py\u001B[0m in \u001B[0;36m_set_array_prop\u001B[1;34m(self, prop, val)\u001B[0m\n\u001B[0;32m   5302\u001B[0m         \u001B[1;31m# ------------\u001B[0m\u001B[1;33m\u001B[0m\u001B[1;33m\u001B[0m\u001B[1;33m\u001B[0m\u001B[0m\n\u001B[0;32m   5303\u001B[0m         \u001B[0mvalidator\u001B[0m \u001B[1;33m=\u001B[0m \u001B[0mself\u001B[0m\u001B[1;33m.\u001B[0m\u001B[0m_get_validator\u001B[0m\u001B[1;33m(\u001B[0m\u001B[0mprop\u001B[0m\u001B[1;33m)\u001B[0m\u001B[1;33m\u001B[0m\u001B[1;33m\u001B[0m\u001B[0m\n\u001B[1;32m-> 5304\u001B[1;33m         \u001B[0mval\u001B[0m \u001B[1;33m=\u001B[0m \u001B[0mvalidator\u001B[0m\u001B[1;33m.\u001B[0m\u001B[0mvalidate_coerce\u001B[0m\u001B[1;33m(\u001B[0m\u001B[0mval\u001B[0m\u001B[1;33m,\u001B[0m \u001B[0mskip_invalid\u001B[0m\u001B[1;33m=\u001B[0m\u001B[0mself\u001B[0m\u001B[1;33m.\u001B[0m\u001B[0m_skip_invalid\u001B[0m\u001B[1;33m)\u001B[0m\u001B[1;33m\u001B[0m\u001B[1;33m\u001B[0m\u001B[0m\n\u001B[0m\u001B[0;32m   5305\u001B[0m \u001B[1;33m\u001B[0m\u001B[0m\n\u001B[0;32m   5306\u001B[0m         \u001B[1;31m# Save deep copies of current and new states\u001B[0m\u001B[1;33m\u001B[0m\u001B[1;33m\u001B[0m\u001B[1;33m\u001B[0m\u001B[0m\n",
      "\u001B[1;32mD:\\Programming\\anaconda3\\envs\\iml.env\\lib\\site-packages\\_plotly_utils\\basevalidators.py\u001B[0m in \u001B[0;36mvalidate_coerce\u001B[1;34m(self, v, skip_invalid, _validate)\u001B[0m\n\u001B[0;32m   2679\u001B[0m                     \u001B[1;32melse\u001B[0m\u001B[1;33m:\u001B[0m\u001B[1;33m\u001B[0m\u001B[1;33m\u001B[0m\u001B[0m\n\u001B[0;32m   2680\u001B[0m                         trace = self.get_trace_class(trace_type)(\n\u001B[1;32m-> 2681\u001B[1;33m                             \u001B[0mskip_invalid\u001B[0m\u001B[1;33m=\u001B[0m\u001B[0mskip_invalid\u001B[0m\u001B[1;33m,\u001B[0m \u001B[0m_validate\u001B[0m\u001B[1;33m=\u001B[0m\u001B[0m_validate\u001B[0m\u001B[1;33m,\u001B[0m \u001B[1;33m**\u001B[0m\u001B[0mv_copy\u001B[0m\u001B[1;33m\u001B[0m\u001B[1;33m\u001B[0m\u001B[0m\n\u001B[0m\u001B[0;32m   2682\u001B[0m                         )\n\u001B[0;32m   2683\u001B[0m                         \u001B[0mres\u001B[0m\u001B[1;33m.\u001B[0m\u001B[0mappend\u001B[0m\u001B[1;33m(\u001B[0m\u001B[0mtrace\u001B[0m\u001B[1;33m)\u001B[0m\u001B[1;33m\u001B[0m\u001B[1;33m\u001B[0m\u001B[0m\n",
      "\u001B[1;32mD:\\Programming\\anaconda3\\envs\\iml.env\\lib\\site-packages\\plotly\\graph_objs\\_scatter.py\u001B[0m in \u001B[0;36m__init__\u001B[1;34m(self, arg, cliponaxis, connectgaps, customdata, customdatasrc, dx, dy, error_x, error_y, fill, fillcolor, groupnorm, hoverinfo, hoverinfosrc, hoverlabel, hoveron, hovertemplate, hovertemplatesrc, hovertext, hovertextsrc, ids, idssrc, legendgroup, legendgrouptitle, legendrank, line, marker, meta, metasrc, mode, name, opacity, orientation, selected, selectedpoints, showlegend, stackgaps, stackgroup, stream, text, textfont, textposition, textpositionsrc, textsrc, texttemplate, texttemplatesrc, uid, uirevision, unselected, visible, x, x0, xaxis, xcalendar, xhoverformat, xperiod, xperiod0, xperiodalignment, xsrc, y, y0, yaxis, ycalendar, yhoverformat, yperiod, yperiod0, yperiodalignment, ysrc, **kwargs)\u001B[0m\n\u001B[0;32m   3110\u001B[0m         \u001B[0m_v\u001B[0m \u001B[1;33m=\u001B[0m \u001B[0mmarker\u001B[0m \u001B[1;32mif\u001B[0m \u001B[0mmarker\u001B[0m \u001B[1;32mis\u001B[0m \u001B[1;32mnot\u001B[0m \u001B[1;32mNone\u001B[0m \u001B[1;32melse\u001B[0m \u001B[0m_v\u001B[0m\u001B[1;33m\u001B[0m\u001B[1;33m\u001B[0m\u001B[0m\n\u001B[0;32m   3111\u001B[0m         \u001B[1;32mif\u001B[0m \u001B[0m_v\u001B[0m \u001B[1;32mis\u001B[0m \u001B[1;32mnot\u001B[0m \u001B[1;32mNone\u001B[0m\u001B[1;33m:\u001B[0m\u001B[1;33m\u001B[0m\u001B[1;33m\u001B[0m\u001B[0m\n\u001B[1;32m-> 3112\u001B[1;33m             \u001B[0mself\u001B[0m\u001B[1;33m[\u001B[0m\u001B[1;34m\"marker\"\u001B[0m\u001B[1;33m]\u001B[0m \u001B[1;33m=\u001B[0m \u001B[0m_v\u001B[0m\u001B[1;33m\u001B[0m\u001B[1;33m\u001B[0m\u001B[0m\n\u001B[0m\u001B[0;32m   3113\u001B[0m         \u001B[0m_v\u001B[0m \u001B[1;33m=\u001B[0m \u001B[0marg\u001B[0m\u001B[1;33m.\u001B[0m\u001B[0mpop\u001B[0m\u001B[1;33m(\u001B[0m\u001B[1;34m\"meta\"\u001B[0m\u001B[1;33m,\u001B[0m \u001B[1;32mNone\u001B[0m\u001B[1;33m)\u001B[0m\u001B[1;33m\u001B[0m\u001B[1;33m\u001B[0m\u001B[0m\n\u001B[0;32m   3114\u001B[0m         \u001B[0m_v\u001B[0m \u001B[1;33m=\u001B[0m \u001B[0mmeta\u001B[0m \u001B[1;32mif\u001B[0m \u001B[0mmeta\u001B[0m \u001B[1;32mis\u001B[0m \u001B[1;32mnot\u001B[0m \u001B[1;32mNone\u001B[0m \u001B[1;32melse\u001B[0m \u001B[0m_v\u001B[0m\u001B[1;33m\u001B[0m\u001B[1;33m\u001B[0m\u001B[0m\n",
      "\u001B[1;32mD:\\Programming\\anaconda3\\envs\\iml.env\\lib\\site-packages\\plotly\\basedatatypes.py\u001B[0m in \u001B[0;36m__setitem__\u001B[1;34m(self, prop, value)\u001B[0m\n\u001B[0;32m   4817\u001B[0m                 \u001B[1;31m# ### Handle compound property ###\u001B[0m\u001B[1;33m\u001B[0m\u001B[1;33m\u001B[0m\u001B[1;33m\u001B[0m\u001B[0m\n\u001B[0;32m   4818\u001B[0m                 \u001B[1;32mif\u001B[0m \u001B[0misinstance\u001B[0m\u001B[1;33m(\u001B[0m\u001B[0mvalidator\u001B[0m\u001B[1;33m,\u001B[0m \u001B[0mCompoundValidator\u001B[0m\u001B[1;33m)\u001B[0m\u001B[1;33m:\u001B[0m\u001B[1;33m\u001B[0m\u001B[1;33m\u001B[0m\u001B[0m\n\u001B[1;32m-> 4819\u001B[1;33m                     \u001B[0mself\u001B[0m\u001B[1;33m.\u001B[0m\u001B[0m_set_compound_prop\u001B[0m\u001B[1;33m(\u001B[0m\u001B[0mprop\u001B[0m\u001B[1;33m,\u001B[0m \u001B[0mvalue\u001B[0m\u001B[1;33m)\u001B[0m\u001B[1;33m\u001B[0m\u001B[1;33m\u001B[0m\u001B[0m\n\u001B[0m\u001B[0;32m   4820\u001B[0m \u001B[1;33m\u001B[0m\u001B[0m\n\u001B[0;32m   4821\u001B[0m                 \u001B[1;31m# ### Handle compound array property ###\u001B[0m\u001B[1;33m\u001B[0m\u001B[1;33m\u001B[0m\u001B[1;33m\u001B[0m\u001B[0m\n",
      "\u001B[1;32mD:\\Programming\\anaconda3\\envs\\iml.env\\lib\\site-packages\\plotly\\basedatatypes.py\u001B[0m in \u001B[0;36m_set_compound_prop\u001B[1;34m(self, prop, val)\u001B[0m\n\u001B[0;32m   5228\u001B[0m         \u001B[1;31m# ------------\u001B[0m\u001B[1;33m\u001B[0m\u001B[1;33m\u001B[0m\u001B[1;33m\u001B[0m\u001B[0m\n\u001B[0;32m   5229\u001B[0m         \u001B[0mvalidator\u001B[0m \u001B[1;33m=\u001B[0m \u001B[0mself\u001B[0m\u001B[1;33m.\u001B[0m\u001B[0m_get_validator\u001B[0m\u001B[1;33m(\u001B[0m\u001B[0mprop\u001B[0m\u001B[1;33m)\u001B[0m\u001B[1;33m\u001B[0m\u001B[1;33m\u001B[0m\u001B[0m\n\u001B[1;32m-> 5230\u001B[1;33m         \u001B[0mval\u001B[0m \u001B[1;33m=\u001B[0m \u001B[0mvalidator\u001B[0m\u001B[1;33m.\u001B[0m\u001B[0mvalidate_coerce\u001B[0m\u001B[1;33m(\u001B[0m\u001B[0mval\u001B[0m\u001B[1;33m,\u001B[0m \u001B[0mskip_invalid\u001B[0m\u001B[1;33m=\u001B[0m\u001B[0mself\u001B[0m\u001B[1;33m.\u001B[0m\u001B[0m_skip_invalid\u001B[0m\u001B[1;33m)\u001B[0m\u001B[1;33m\u001B[0m\u001B[1;33m\u001B[0m\u001B[0m\n\u001B[0m\u001B[0;32m   5231\u001B[0m \u001B[1;33m\u001B[0m\u001B[0m\n\u001B[0;32m   5232\u001B[0m         \u001B[1;31m# Save deep copies of current and new states\u001B[0m\u001B[1;33m\u001B[0m\u001B[1;33m\u001B[0m\u001B[1;33m\u001B[0m\u001B[0m\n",
      "\u001B[1;32mD:\\Programming\\anaconda3\\envs\\iml.env\\lib\\site-packages\\_plotly_utils\\basevalidators.py\u001B[0m in \u001B[0;36mvalidate_coerce\u001B[1;34m(self, v, skip_invalid, _validate)\u001B[0m\n\u001B[0;32m   2465\u001B[0m \u001B[1;33m\u001B[0m\u001B[0m\n\u001B[0;32m   2466\u001B[0m         \u001B[1;32melif\u001B[0m \u001B[0misinstance\u001B[0m\u001B[1;33m(\u001B[0m\u001B[0mv\u001B[0m\u001B[1;33m,\u001B[0m \u001B[0mdict\u001B[0m\u001B[1;33m)\u001B[0m\u001B[1;33m:\u001B[0m\u001B[1;33m\u001B[0m\u001B[1;33m\u001B[0m\u001B[0m\n\u001B[1;32m-> 2467\u001B[1;33m             \u001B[0mv\u001B[0m \u001B[1;33m=\u001B[0m \u001B[0mself\u001B[0m\u001B[1;33m.\u001B[0m\u001B[0mdata_class\u001B[0m\u001B[1;33m(\u001B[0m\u001B[0mv\u001B[0m\u001B[1;33m,\u001B[0m \u001B[0mskip_invalid\u001B[0m\u001B[1;33m=\u001B[0m\u001B[0mskip_invalid\u001B[0m\u001B[1;33m,\u001B[0m \u001B[0m_validate\u001B[0m\u001B[1;33m=\u001B[0m\u001B[0m_validate\u001B[0m\u001B[1;33m)\u001B[0m\u001B[1;33m\u001B[0m\u001B[1;33m\u001B[0m\u001B[0m\n\u001B[0m\u001B[0;32m   2468\u001B[0m \u001B[1;33m\u001B[0m\u001B[0m\n\u001B[0;32m   2469\u001B[0m         \u001B[1;32melif\u001B[0m \u001B[0misinstance\u001B[0m\u001B[1;33m(\u001B[0m\u001B[0mv\u001B[0m\u001B[1;33m,\u001B[0m \u001B[0mself\u001B[0m\u001B[1;33m.\u001B[0m\u001B[0mdata_class\u001B[0m\u001B[1;33m)\u001B[0m\u001B[1;33m:\u001B[0m\u001B[1;33m\u001B[0m\u001B[1;33m\u001B[0m\u001B[0m\n",
      "\u001B[1;32mD:\\Programming\\anaconda3\\envs\\iml.env\\lib\\site-packages\\plotly\\graph_objs\\scatter\\_marker.py\u001B[0m in \u001B[0;36m__init__\u001B[1;34m(self, arg, autocolorscale, cauto, cmax, cmid, cmin, color, coloraxis, colorbar, colorscale, colorsrc, gradient, line, maxdisplayed, opacity, opacitysrc, reversescale, showscale, size, sizemin, sizemode, sizeref, sizesrc, symbol, symbolsrc, **kwargs)\u001B[0m\n\u001B[0;32m   1492\u001B[0m         \u001B[0m_v\u001B[0m \u001B[1;33m=\u001B[0m \u001B[0msymbol\u001B[0m \u001B[1;32mif\u001B[0m \u001B[0msymbol\u001B[0m \u001B[1;32mis\u001B[0m \u001B[1;32mnot\u001B[0m \u001B[1;32mNone\u001B[0m \u001B[1;32melse\u001B[0m \u001B[0m_v\u001B[0m\u001B[1;33m\u001B[0m\u001B[1;33m\u001B[0m\u001B[0m\n\u001B[0;32m   1493\u001B[0m         \u001B[1;32mif\u001B[0m \u001B[0m_v\u001B[0m \u001B[1;32mis\u001B[0m \u001B[1;32mnot\u001B[0m \u001B[1;32mNone\u001B[0m\u001B[1;33m:\u001B[0m\u001B[1;33m\u001B[0m\u001B[1;33m\u001B[0m\u001B[0m\n\u001B[1;32m-> 1494\u001B[1;33m             \u001B[0mself\u001B[0m\u001B[1;33m[\u001B[0m\u001B[1;34m\"symbol\"\u001B[0m\u001B[1;33m]\u001B[0m \u001B[1;33m=\u001B[0m \u001B[0m_v\u001B[0m\u001B[1;33m\u001B[0m\u001B[1;33m\u001B[0m\u001B[0m\n\u001B[0m\u001B[0;32m   1495\u001B[0m         \u001B[0m_v\u001B[0m \u001B[1;33m=\u001B[0m \u001B[0marg\u001B[0m\u001B[1;33m.\u001B[0m\u001B[0mpop\u001B[0m\u001B[1;33m(\u001B[0m\u001B[1;34m\"symbolsrc\"\u001B[0m\u001B[1;33m,\u001B[0m \u001B[1;32mNone\u001B[0m\u001B[1;33m)\u001B[0m\u001B[1;33m\u001B[0m\u001B[1;33m\u001B[0m\u001B[0m\n\u001B[0;32m   1496\u001B[0m         \u001B[0m_v\u001B[0m \u001B[1;33m=\u001B[0m \u001B[0msymbolsrc\u001B[0m \u001B[1;32mif\u001B[0m \u001B[0msymbolsrc\u001B[0m \u001B[1;32mis\u001B[0m \u001B[1;32mnot\u001B[0m \u001B[1;32mNone\u001B[0m \u001B[1;32melse\u001B[0m \u001B[0m_v\u001B[0m\u001B[1;33m\u001B[0m\u001B[1;33m\u001B[0m\u001B[0m\n",
      "\u001B[1;32mD:\\Programming\\anaconda3\\envs\\iml.env\\lib\\site-packages\\plotly\\basedatatypes.py\u001B[0m in \u001B[0;36m__setitem__\u001B[1;34m(self, prop, value)\u001B[0m\n\u001B[0;32m   4825\u001B[0m                 \u001B[1;31m# ### Handle simple property ###\u001B[0m\u001B[1;33m\u001B[0m\u001B[1;33m\u001B[0m\u001B[1;33m\u001B[0m\u001B[0m\n\u001B[0;32m   4826\u001B[0m                 \u001B[1;32melse\u001B[0m\u001B[1;33m:\u001B[0m\u001B[1;33m\u001B[0m\u001B[1;33m\u001B[0m\u001B[0m\n\u001B[1;32m-> 4827\u001B[1;33m                     \u001B[0mself\u001B[0m\u001B[1;33m.\u001B[0m\u001B[0m_set_prop\u001B[0m\u001B[1;33m(\u001B[0m\u001B[0mprop\u001B[0m\u001B[1;33m,\u001B[0m \u001B[0mvalue\u001B[0m\u001B[1;33m)\u001B[0m\u001B[1;33m\u001B[0m\u001B[1;33m\u001B[0m\u001B[0m\n\u001B[0m\u001B[0;32m   4828\u001B[0m             \u001B[1;32melse\u001B[0m\u001B[1;33m:\u001B[0m\u001B[1;33m\u001B[0m\u001B[1;33m\u001B[0m\u001B[0m\n\u001B[0;32m   4829\u001B[0m                 \u001B[1;31m# Make sure properties dict is initialized\u001B[0m\u001B[1;33m\u001B[0m\u001B[1;33m\u001B[0m\u001B[1;33m\u001B[0m\u001B[0m\n",
      "\u001B[1;32mD:\\Programming\\anaconda3\\envs\\iml.env\\lib\\site-packages\\plotly\\basedatatypes.py\u001B[0m in \u001B[0;36m_set_prop\u001B[1;34m(self, prop, val)\u001B[0m\n\u001B[0;32m   5164\u001B[0m \u001B[1;33m\u001B[0m\u001B[0m\n\u001B[0;32m   5165\u001B[0m         \u001B[1;32mtry\u001B[0m\u001B[1;33m:\u001B[0m\u001B[1;33m\u001B[0m\u001B[1;33m\u001B[0m\u001B[0m\n\u001B[1;32m-> 5166\u001B[1;33m             \u001B[0mval\u001B[0m \u001B[1;33m=\u001B[0m \u001B[0mvalidator\u001B[0m\u001B[1;33m.\u001B[0m\u001B[0mvalidate_coerce\u001B[0m\u001B[1;33m(\u001B[0m\u001B[0mval\u001B[0m\u001B[1;33m)\u001B[0m\u001B[1;33m\u001B[0m\u001B[1;33m\u001B[0m\u001B[0m\n\u001B[0m\u001B[0;32m   5167\u001B[0m         \u001B[1;32mexcept\u001B[0m \u001B[0mValueError\u001B[0m \u001B[1;32mas\u001B[0m \u001B[0merr\u001B[0m\u001B[1;33m:\u001B[0m\u001B[1;33m\u001B[0m\u001B[1;33m\u001B[0m\u001B[0m\n\u001B[0;32m   5168\u001B[0m             \u001B[1;32mif\u001B[0m \u001B[0mself\u001B[0m\u001B[1;33m.\u001B[0m\u001B[0m_skip_invalid\u001B[0m\u001B[1;33m:\u001B[0m\u001B[1;33m\u001B[0m\u001B[1;33m\u001B[0m\u001B[0m\n",
      "\u001B[1;32mD:\\Programming\\anaconda3\\envs\\iml.env\\lib\\site-packages\\_plotly_utils\\basevalidators.py\u001B[0m in \u001B[0;36mvalidate_coerce\u001B[1;34m(self, v)\u001B[0m\n\u001B[0;32m    605\u001B[0m             \u001B[0mv_replaced\u001B[0m \u001B[1;33m=\u001B[0m \u001B[1;33m[\u001B[0m\u001B[0mself\u001B[0m\u001B[1;33m.\u001B[0m\u001B[0mperform_replacemenet\u001B[0m\u001B[1;33m(\u001B[0m\u001B[0mv_el\u001B[0m\u001B[1;33m)\u001B[0m \u001B[1;32mfor\u001B[0m \u001B[0mv_el\u001B[0m \u001B[1;32min\u001B[0m \u001B[0mv\u001B[0m\u001B[1;33m]\u001B[0m\u001B[1;33m\u001B[0m\u001B[1;33m\u001B[0m\u001B[0m\n\u001B[0;32m    606\u001B[0m \u001B[1;33m\u001B[0m\u001B[0m\n\u001B[1;32m--> 607\u001B[1;33m             \u001B[0minvalid_els\u001B[0m \u001B[1;33m=\u001B[0m \u001B[1;33m[\u001B[0m\u001B[0me\u001B[0m \u001B[1;32mfor\u001B[0m \u001B[0me\u001B[0m \u001B[1;32min\u001B[0m \u001B[0mv_replaced\u001B[0m \u001B[1;32mif\u001B[0m \u001B[1;33m(\u001B[0m\u001B[1;32mnot\u001B[0m \u001B[0mself\u001B[0m\u001B[1;33m.\u001B[0m\u001B[0min_values\u001B[0m\u001B[1;33m(\u001B[0m\u001B[0me\u001B[0m\u001B[1;33m)\u001B[0m\u001B[1;33m)\u001B[0m\u001B[1;33m]\u001B[0m\u001B[1;33m\u001B[0m\u001B[1;33m\u001B[0m\u001B[0m\n\u001B[0m\u001B[0;32m    608\u001B[0m             \u001B[1;32mif\u001B[0m \u001B[0minvalid_els\u001B[0m\u001B[1;33m:\u001B[0m\u001B[1;33m\u001B[0m\u001B[1;33m\u001B[0m\u001B[0m\n\u001B[0;32m    609\u001B[0m                 \u001B[0mself\u001B[0m\u001B[1;33m.\u001B[0m\u001B[0mraise_invalid_elements\u001B[0m\u001B[1;33m(\u001B[0m\u001B[0minvalid_els\u001B[0m\u001B[1;33m[\u001B[0m\u001B[1;33m:\u001B[0m\u001B[1;36m10\u001B[0m\u001B[1;33m]\u001B[0m\u001B[1;33m)\u001B[0m\u001B[1;33m\u001B[0m\u001B[1;33m\u001B[0m\u001B[0m\n",
      "\u001B[1;32mD:\\Programming\\anaconda3\\envs\\iml.env\\lib\\site-packages\\_plotly_utils\\basevalidators.py\u001B[0m in \u001B[0;36m<listcomp>\u001B[1;34m(.0)\u001B[0m\n\u001B[0;32m    605\u001B[0m             \u001B[0mv_replaced\u001B[0m \u001B[1;33m=\u001B[0m \u001B[1;33m[\u001B[0m\u001B[0mself\u001B[0m\u001B[1;33m.\u001B[0m\u001B[0mperform_replacemenet\u001B[0m\u001B[1;33m(\u001B[0m\u001B[0mv_el\u001B[0m\u001B[1;33m)\u001B[0m \u001B[1;32mfor\u001B[0m \u001B[0mv_el\u001B[0m \u001B[1;32min\u001B[0m \u001B[0mv\u001B[0m\u001B[1;33m]\u001B[0m\u001B[1;33m\u001B[0m\u001B[1;33m\u001B[0m\u001B[0m\n\u001B[0;32m    606\u001B[0m \u001B[1;33m\u001B[0m\u001B[0m\n\u001B[1;32m--> 607\u001B[1;33m             \u001B[0minvalid_els\u001B[0m \u001B[1;33m=\u001B[0m \u001B[1;33m[\u001B[0m\u001B[0me\u001B[0m \u001B[1;32mfor\u001B[0m \u001B[0me\u001B[0m \u001B[1;32min\u001B[0m \u001B[0mv_replaced\u001B[0m \u001B[1;32mif\u001B[0m \u001B[1;33m(\u001B[0m\u001B[1;32mnot\u001B[0m \u001B[0mself\u001B[0m\u001B[1;33m.\u001B[0m\u001B[0min_values\u001B[0m\u001B[1;33m(\u001B[0m\u001B[0me\u001B[0m\u001B[1;33m)\u001B[0m\u001B[1;33m)\u001B[0m\u001B[1;33m]\u001B[0m\u001B[1;33m\u001B[0m\u001B[1;33m\u001B[0m\u001B[0m\n\u001B[0m\u001B[0;32m    608\u001B[0m             \u001B[1;32mif\u001B[0m \u001B[0minvalid_els\u001B[0m\u001B[1;33m:\u001B[0m\u001B[1;33m\u001B[0m\u001B[1;33m\u001B[0m\u001B[0m\n\u001B[0;32m    609\u001B[0m                 \u001B[0mself\u001B[0m\u001B[1;33m.\u001B[0m\u001B[0mraise_invalid_elements\u001B[0m\u001B[1;33m(\u001B[0m\u001B[0minvalid_els\u001B[0m\u001B[1;33m[\u001B[0m\u001B[1;33m:\u001B[0m\u001B[1;36m10\u001B[0m\u001B[1;33m]\u001B[0m\u001B[1;33m)\u001B[0m\u001B[1;33m\u001B[0m\u001B[1;33m\u001B[0m\u001B[0m\n",
      "\u001B[1;32mD:\\Programming\\anaconda3\\envs\\iml.env\\lib\\site-packages\\_plotly_utils\\basevalidators.py\u001B[0m in \u001B[0;36min_values\u001B[1;34m(self, e)\u001B[0m\n\u001B[0;32m    587\u001B[0m         \u001B[0mis_str\u001B[0m \u001B[1;33m=\u001B[0m \u001B[0misinstance\u001B[0m\u001B[1;33m(\u001B[0m\u001B[0me\u001B[0m\u001B[1;33m,\u001B[0m \u001B[0mstring_types\u001B[0m\u001B[1;33m)\u001B[0m\u001B[1;33m\u001B[0m\u001B[1;33m\u001B[0m\u001B[0m\n\u001B[0;32m    588\u001B[0m         \u001B[1;32mfor\u001B[0m \u001B[0mv\u001B[0m\u001B[1;33m,\u001B[0m \u001B[0mregex\u001B[0m \u001B[1;32min\u001B[0m \u001B[0mzip\u001B[0m\u001B[1;33m(\u001B[0m\u001B[0mself\u001B[0m\u001B[1;33m.\u001B[0m\u001B[0mvalues\u001B[0m\u001B[1;33m,\u001B[0m \u001B[0mself\u001B[0m\u001B[1;33m.\u001B[0m\u001B[0mval_regexs\u001B[0m\u001B[1;33m)\u001B[0m\u001B[1;33m:\u001B[0m\u001B[1;33m\u001B[0m\u001B[1;33m\u001B[0m\u001B[0m\n\u001B[1;32m--> 589\u001B[1;33m             \u001B[1;32mif\u001B[0m \u001B[0mis_str\u001B[0m \u001B[1;32mand\u001B[0m \u001B[0mregex\u001B[0m\u001B[1;33m:\u001B[0m\u001B[1;33m\u001B[0m\u001B[1;33m\u001B[0m\u001B[0m\n\u001B[0m\u001B[0;32m    590\u001B[0m                 \u001B[0min_values\u001B[0m \u001B[1;33m=\u001B[0m \u001B[0mfullmatch\u001B[0m\u001B[1;33m(\u001B[0m\u001B[0mregex\u001B[0m\u001B[1;33m,\u001B[0m \u001B[0me\u001B[0m\u001B[1;33m)\u001B[0m \u001B[1;32mis\u001B[0m \u001B[1;32mnot\u001B[0m \u001B[1;32mNone\u001B[0m\u001B[1;33m\u001B[0m\u001B[1;33m\u001B[0m\u001B[0m\n\u001B[0;32m    591\u001B[0m                 \u001B[1;31m# in_values = regex.fullmatch(e) is not None\u001B[0m\u001B[1;33m\u001B[0m\u001B[1;33m\u001B[0m\u001B[1;33m\u001B[0m\u001B[0m\n",
      "\u001B[1;31mKeyboardInterrupt\u001B[0m: "
     ]
    }
   ],
   "source": [
    "from sklearn.linear_model import Perceptron as Perceptron\n",
    "lim = np.array([X.min(axis=0), X.max(axis=0)]).T + np.array([-.5,.5])\n",
    "\n",
    "frames = []\n",
    "per = Perceptron()\n",
    "per.partial_fit([X[0]], [y[0]], np.unique(y))\n",
    "\n",
    "rnd = 1\n",
    "while per.score(X, y) != 1:\n",
    "    for i in range(X.shape[0]):\n",
    "        # Perform another fitting over new sample\n",
    "        per.partial_fit([X[i]], [y[i]], np.unique(y))\n",
    "\n",
    "        # Get Perceptron separator\n",
    "        w = per.coef_[0]\n",
    "        yy = (-w[0] / w[1]) * lim[0] - (per.intercept_[0] / w[1])\n",
    "\n",
    "        # Create animation frame\n",
    "        frames.append(go.Frame(\n",
    "            data = [\n",
    "                go.Scatter(x = X[:,0], y=X[:, 1], mode = 'markers', showlegend=False,\n",
    "                           marker = dict(size = 10, color = y, line=dict(color=\"black\", width=1),\n",
    "                                         symbol=class_symbols[y], colorscale=class_colors(2), opacity = [1]*(i+1) + [0.2]*(X.shape[0] - i-1))),\n",
    "                go.Scatter(x = lim[0], y = [yy[0], yy[1]], mode = 'lines', line_color=\"black\", showlegend=False)],\n",
    "            traces=[0, 1],\n",
    "            layout = go.Layout(title=rf\"$\\text{{Perceptron Fit - Round {rnd} After {i+1} Samples}}$\")))\n",
    "    rnd += 1\n",
    "\n",
    "\n",
    "fig = go.Figure(data=frames[0][\"data\"],\n",
    "                frames=frames,\n",
    "                layout = go.Layout(\n",
    "                    title=frames[0][\"layout\"][\"title\"],\n",
    "                    xaxis=dict(range=lim[0], autorange=False),\n",
    "                    yaxis=dict(range=lim[1], autorange=False),\n",
    "                    updatemenus=[dict(type=\"buttons\", buttons=[AnimationButtons.play(frame_duration=100), AnimationButtons.pause()])]))\n",
    "\n",
    "\n",
    "animation_to_gif(fig, \"../figures/perceptron_fit.gif\", 500, width=700, height=700) \n",
    "fig.show()"
   ]
  },
  {
   "cell_type": "markdown",
   "metadata": {},
   "source": [
    "## Generative Models - Simulation and Decision Boundaries"
   ]
  },
  {
   "cell_type": "code",
   "execution_count": null,
   "metadata": {},
   "outputs": [],
   "source": [
    "from sklearn.discriminant_analysis import LinearDiscriminantAnalysis as LDA\n",
    "from sklearn.discriminant_analysis import QuadraticDiscriminantAnalysis as QDA\n",
    "\n",
    "# Generate dataset according to LDA/QDA generative model\n",
    "mu = np.array([[0, 0], [2.5, 5], [5, 0]])\n",
    "pi = [.33, .34, .33]\n",
    "\n",
    "learner = \"QDA\"\n",
    "if learner == \"LDA\":\n",
    "    cov = np.repeat(np.array([[.5, 0], [0, .5]])[None,:, :], 3, axis=0)\n",
    "    model = LDA()\n",
    "else:\n",
    "    cov = np.array([[[.5, 0], [0, .5]], [[.5, 0], [0, .5]], [[1, 0], [0, .5]],])\n",
    "    model = QDA()\n",
    "\n",
    "# y = np.random.binomial(n=1, p=pi, size=500)\n",
    "y = np.random.choice([0,1,2], size=500, p=pi)\n",
    "X = np.array([np.random.multivariate_normal(mu[yi], cov[yi]) for yi in y])\n",
    "\n",
    "\n",
    "# Plotting dataset and LAD decision boundaries\n",
    "lims = np.array([X.min(axis=0), X.max(axis=0)]).T + np.array([-.5, .5])\n",
    "\n",
    "\n",
    "fig = go.Figure([\n",
    "    decision_surface(model.fit(X, y).predict, lims[0], lims[1], showscale=False, colorscale=class_colors(3), density=300),\n",
    "    go.Scatter(x=X[:,0], y=X[:,1], mode=\"markers\", showlegend=False, \n",
    "               marker=dict(color=y, symbol=class_symbols[y], colorscale=class_colors(3), \n",
    "                           line=dict(color=\"black\", width=1)))],\n",
    "                layout=go.Layout(xaxis=dict(range=lims[0], autorange=False, visible=False),\n",
    "                                 yaxis=dict(range=lims[1], autorange=False, visible=False),\n",
    "                                 width=600, height=400,\n",
    "                                 title=rf\"$\\text{{Multi-class {learner} Decision Boundary}}$\"))\n",
    "fig.write_image(f\"../figures/{learner}_decision_boundary.png\")\n",
    "fig.show()"
   ]
  },
  {
   "cell_type": "markdown",
   "metadata": {},
   "source": [
    "## Decision Boundaries and Accuracy As Function Of Complexity"
   ]
  },
  {
   "cell_type": "code",
   "execution_count": null,
   "metadata": {},
   "outputs": [],
   "source": [
    "from sklearn.datasets import make_moons\n",
    "from sklearn.model_selection import train_test_split\n",
    "from sklearn.neighbors import KNeighborsClassifier\n",
    "from sklearn.tree import DecisionTreeClassifier\n",
    "\n",
    "classifier, params, title, name = {\n",
    "    \"knn\": (lambda k: KNeighborsClassifier(n_neighbors=k),\n",
    "            list(range(1, 41, 2)),\n",
    "            \"Fitting k-NN Classifier - Number of Neighbors\",\n",
    "            \"KNN\"),\n",
    "    \"decision_tree\": (lambda d: DecisionTreeClassifier(max_depth=d, random_state=42),\n",
    "                      list(range(1, 21)),\n",
    "                      \"Fitting Decision Tree Classifier - Max Depth\",\n",
    "                      \"Decision Tree\")}[\"knn\"] # \"decision_tree\"\n",
    "\n",
    "\n",
    "# Generate data and split into train and test sets\n",
    "np.random.seed(1)\n",
    "X, y = make_moons(n_samples=300, noise=0.4, random_state=1)\n",
    "X_train, X_test, y_train, y_test = train_test_split(X, y)\n",
    "\n",
    "\n",
    "# Set variables used to create plots\n",
    "lims = np.array([X.min(axis=0), X.max(axis=0)]).T + np.array([-.2, .2])\n",
    "scatter_settings = [(\"Train - Class 0\", X_train[y_train == 0,:], class_colors(2)[0][1], f\"{class_symbols[0]}-open\"),\n",
    "                    (\"Train - Class 1\", X_train[y_train == 1,:], class_colors(2)[1][1], f\"{class_symbols[1]}-open\"),\n",
    "                    (\"Test  - Class 0\", X_test[y_test == 0,:],   class_colors(2)[0][1], f\"{class_symbols[0]}\"),\n",
    "                    (\"Test  - Class 1\", X_test[y_test == 1,:],   class_colors(2)[1][1], f\"{class_symbols[1]}\")]\n",
    "\n",
    "\n",
    "# Run model for different parameters (governing complexity) and create animation frames\n",
    "frames, train_error, test_error = [], [], []\n",
    "for i, k in enumerate(params):\n",
    "    # Fit model\n",
    "    m = classifier(k).fit(X_train, y_train)\n",
    "  \n",
    "    # Evaluate over data sets\n",
    "    train_error.append(1 - np.mean(m.predict(X_train) == y_train))\n",
    "    test_error.append( 1 - np.mean(m.predict(X_test)  == y_test))\n",
    "\n",
    "    # Create scatter objects of train/test data of different classes\n",
    "    scatters = [\n",
    "        go.Scatter(x=data[:,0], y=data[:,1], mode=\"markers\", name=name, showlegend=True,\n",
    "                   marker=dict(color=color, symbol=symbol, line=dict(color=\"black\", width=.75)))\n",
    "        for (name, data, color, symbol) in scatter_settings]\n",
    "    \n",
    "    \n",
    "    # Create animation frame\n",
    "    frames.append(go.Frame(\n",
    "        data=[decision_surface(m.fit(X_train, y_train).predict, lims[0], lims[1], showscale=False)] + \n",
    "             scatters + \n",
    "             [go.Scatter(x=params[:i], y=train_error[:i], name=\"Train Error\", xaxis=\"x2\", yaxis=\"y2\", marker_color=\"black\"),\n",
    "              go.Scatter(x=params[:i], y=test_error[:i], name=\"Test Error\", xaxis=\"x2\", yaxis=\"y2\", marker_color=\"red\")],\n",
    "        layout=go.Layout(title=rf\"$\\text{{{title}}}={k}$\"),\n",
    "        traces=[0,1,2,3,4,5,6]))\n",
    "\n",
    "    \n",
    "# Create figure and populate with frames defined above\n",
    "fig = make_subplots(rows=1, cols=2, \n",
    "                    subplot_titles=(r\"$\\text{Decisions Boundaries}$\", r\"$\\text{Accuracy}$\"),\n",
    "                    horizontal_spacing=0.1)\\\n",
    "    .add_traces(data=frames[0][\"data\"], rows=[1]*7, cols=[1]*5 + [2,2])\\\n",
    "    .update(frames=frames)\\\n",
    "    .update_layout(updatemenus = [dict(type=\"buttons\", buttons=[AnimationButtons.play(), AnimationButtons.pause()])],\n",
    "                   width=1100, height=500, margin=dict(t=80), \n",
    "                   title=frames[0][\"layout\"][\"title\"])\n",
    "\n",
    "fig.update_yaxes(visible=False, row=1, col=1)\\\n",
    "    .update_xaxes(visible=False, row=1, col=1)\n",
    "fig.update_yaxes(range=[-0.05, max(train_error+test_error)+.1], row=1, col=2)\\\n",
    "    .update_xaxes(range=[params[0], params[-1]], row=1, col=2)\n",
    "\n",
    "\n",
    "animation_to_gif(fig, f\"../figures/{name}_animation.gif\", 1000, width=1000, height=500) \n",
    "fig.show()"
   ]
  }
 ],
 "metadata": {
  "kernelspec": {
   "display_name": "Python 3",
   "language": "python",
   "name": "python3"
  },
  "language_info": {
   "codemirror_mode": {
    "name": "ipython",
    "version": 3
   },
   "file_extension": ".py",
   "mimetype": "text/x-python",
   "name": "python",
   "nbconvert_exporter": "python",
   "pygments_lexer": "ipython3",
   "version": "3.7.10"
  }
 },
 "nbformat": 4,
 "nbformat_minor": 4
}